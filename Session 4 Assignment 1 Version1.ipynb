{
 "cells": [
  {
   "cell_type": "markdown",
   "metadata": {},
   "source": [
    "# Session 4 - Assignment"
   ]
  },
  {
   "cell_type": "markdown",
   "metadata": {},
   "source": [
    "# Task 1 - Question 1\n",
    "## Given a sequence of n values x1, x2, ..., xn and a window size k>0, the k-th moving average of the given sequence is defined as follows:\n",
    "## The moving average sequence has n-k+1 elements as shown below.\n",
    "## The moving averages with k=4 of a ten-value sequence (n=10) is shown below:\n",
    "#### i 1 2 3 4 5 6 7 8 9 10\n",
    "#### ===== == == == == == == == == == ==\n",
    "#### Input 10 20 30 40 50 60 70 80 90 100\n",
    "#### y1 25 = (10+20+30+40)/4\n",
    "#### y2 35 = (20+30+40+50)/4\n",
    "#### y3 45 = (30+40+50+60)/4\n",
    "#### y4 55 = (40+50+60+70)/4\n",
    "#### y5 65 = (50+60+70+80)/4\n",
    "#### y6 75 = (60+70+80+90)/4\n",
    "#### y7 85 = (70+80+90+100)/4\n",
    "#### Thus, the moving average sequence has n-k+1=10-4+1=7 values.\n",
    "#### Problem Statement:\n",
    "#### Write a function to find moving average in an array over a window:\n",
    "#### Test it over [3, 5, 7, 2, 8, 10, 11, 65, 72, 81, 99, 100, 150] and window of 3."
   ]
  },
  {
   "cell_type": "code",
   "execution_count": 51,
   "metadata": {},
   "outputs": [
    {
     "name": "stdout",
     "output_type": "stream",
     "text": [
      "( 3 5 7)/3 = 5.0\n",
      "( 5 7 2)/3 = 5.0\n",
      "( 7 2 8)/3 = 6.0\n",
      "( 2 8 10)/3 = 7.0\n",
      "( 8 10 11)/3 = 10.0\n",
      "( 10 11 65)/3 = 29.0\n",
      "( 11 65 72)/3 = 49.0\n",
      "( 65 72 81)/3 = 73.0\n",
      "( 72 81 99)/3 = 84.0\n",
      "( 81 99 100)/3 = 93.0\n",
      "( 99 100 150)/3 = 116.0\n"
     ]
    }
   ],
   "source": [
    "import numpy as np\n",
    "\n",
    "k = 3\n",
    "sum1 = 0\n",
    "exp1 =\"\"\n",
    "s = np.array([3, 5, 7, 2, 8, 10, 11, 65, 72, 81, 99, 100, 150])\n",
    "n = len(s)\n",
    "\n",
    "for i in range (1,n):\n",
    "    if i + (k-1) <= n:\n",
    "        for j in range (i-1, i+(k-1)):\n",
    "            sum1 = sum1+s[j]\n",
    "            exp1 = str(exp1)+ \" \" +str(s[j])\n",
    "        print (\"(\"+str(exp1)+\")/\"+str(k)+\" = \" +str(np.round(sum1/k)))\n",
    "        sum1=0\n",
    "        exp1=\"\"\n"
   ]
  },
  {
   "cell_type": "markdown",
   "metadata": {},
   "source": [
    "# Task2"
   ]
  },
  {
   "cell_type": "markdown",
   "metadata": {},
   "source": [
    "## Question - 1 - How-to-count-distance-to-the-previous-zero\n",
    "## For each value, count the difference back to the previous zero (or the start of the Series, whichever is closer)\n",
    "### create a new column 'Y'\n",
    "### Consider a DataFrame df where there is an integer column 'X'\n",
    "#### import pandas as pd\n",
    "#### df = pd.DataFrame({'X': [7, 2, 0, 3, 4, 2, 5, 0, 3, 4]})"
   ]
  },
  {
   "cell_type": "code",
   "execution_count": 52,
   "metadata": {},
   "outputs": [
    {
     "data": {
      "text/html": [
       "<div>\n",
       "<style scoped>\n",
       "    .dataframe tbody tr th:only-of-type {\n",
       "        vertical-align: middle;\n",
       "    }\n",
       "\n",
       "    .dataframe tbody tr th {\n",
       "        vertical-align: top;\n",
       "    }\n",
       "\n",
       "    .dataframe thead th {\n",
       "        text-align: right;\n",
       "    }\n",
       "</style>\n",
       "<table border=\"1\" class=\"dataframe\">\n",
       "  <thead>\n",
       "    <tr style=\"text-align: right;\">\n",
       "      <th></th>\n",
       "      <th>X</th>\n",
       "      <th>Y</th>\n",
       "    </tr>\n",
       "  </thead>\n",
       "  <tbody>\n",
       "    <tr>\n",
       "      <th>0</th>\n",
       "      <td>7</td>\n",
       "      <td>1</td>\n",
       "    </tr>\n",
       "    <tr>\n",
       "      <th>1</th>\n",
       "      <td>2</td>\n",
       "      <td>2</td>\n",
       "    </tr>\n",
       "    <tr>\n",
       "      <th>2</th>\n",
       "      <td>0</td>\n",
       "      <td>0</td>\n",
       "    </tr>\n",
       "    <tr>\n",
       "      <th>3</th>\n",
       "      <td>3</td>\n",
       "      <td>1</td>\n",
       "    </tr>\n",
       "    <tr>\n",
       "      <th>4</th>\n",
       "      <td>4</td>\n",
       "      <td>2</td>\n",
       "    </tr>\n",
       "    <tr>\n",
       "      <th>5</th>\n",
       "      <td>2</td>\n",
       "      <td>3</td>\n",
       "    </tr>\n",
       "    <tr>\n",
       "      <th>6</th>\n",
       "      <td>5</td>\n",
       "      <td>4</td>\n",
       "    </tr>\n",
       "    <tr>\n",
       "      <th>7</th>\n",
       "      <td>0</td>\n",
       "      <td>0</td>\n",
       "    </tr>\n",
       "    <tr>\n",
       "      <th>8</th>\n",
       "      <td>3</td>\n",
       "      <td>1</td>\n",
       "    </tr>\n",
       "    <tr>\n",
       "      <th>9</th>\n",
       "      <td>4</td>\n",
       "      <td>2</td>\n",
       "    </tr>\n",
       "  </tbody>\n",
       "</table>\n",
       "</div>"
      ],
      "text/plain": [
       "   X  Y\n",
       "0  7  1\n",
       "1  2  2\n",
       "2  0  0\n",
       "3  3  1\n",
       "4  4  2\n",
       "5  2  3\n",
       "6  5  4\n",
       "7  0  0\n",
       "8  3  1\n",
       "9  4  2"
      ]
     },
     "execution_count": 52,
     "metadata": {},
     "output_type": "execute_result"
    }
   ],
   "source": [
    "import pandas as pd\n",
    "df = pd.DataFrame({'X': [7, 2, 0, 3, 4, 2, 5, 0, 3, 4]})\n",
    "izero = np.r_[-1, (df['X'] == 0).nonzero()[0]] # indices of zeros\n",
    "idx = np.arange(len(df))\n",
    "df['Y'] = idx - izero[np.searchsorted(izero - 1, idx) - 1]\n",
    "df"
   ]
  },
  {
   "cell_type": "markdown",
   "metadata": {},
   "source": [
    "## Question - 2 - Create a DatetimeIndex that contains each business day of 2015 and use it to index a Series of random numbers."
   ]
  },
  {
   "cell_type": "code",
   "execution_count": 83,
   "metadata": {},
   "outputs": [
    {
     "data": {
      "text/plain": [
       "2015-01-01    0.550400\n",
       "2015-01-02    0.278911\n",
       "2015-01-03    0.114833\n",
       "2015-01-04    0.010838\n",
       "2015-01-05    0.452210\n",
       "2015-01-06    0.874989\n",
       "2015-01-07    0.150741\n",
       "2015-01-08    0.815527\n",
       "2015-01-09    0.286305\n",
       "2015-01-10    0.259193\n",
       "2015-01-11    0.735134\n",
       "2015-01-12    0.421421\n",
       "2015-01-13    0.538714\n",
       "2015-01-14    0.967245\n",
       "2015-01-15    0.251917\n",
       "2015-01-16    0.112540\n",
       "2015-01-17    0.141424\n",
       "2015-01-18    0.990851\n",
       "2015-01-19    0.486979\n",
       "2015-01-20    0.343070\n",
       "2015-01-21    0.730092\n",
       "2015-01-22    0.412642\n",
       "2015-01-23    0.124753\n",
       "2015-01-24    0.078715\n",
       "2015-01-25    0.880426\n",
       "2015-01-26    0.055836\n",
       "2015-01-27    0.331488\n",
       "2015-01-28    0.755582\n",
       "2015-01-29    0.739731\n",
       "2015-01-30    0.770856\n",
       "                ...   \n",
       "2015-12-02    0.493577\n",
       "2015-12-03    0.989833\n",
       "2015-12-04    0.658709\n",
       "2015-12-05    0.237604\n",
       "2015-12-06    0.028333\n",
       "2015-12-07    0.566156\n",
       "2015-12-08    0.737260\n",
       "2015-12-09    0.561223\n",
       "2015-12-10    0.995095\n",
       "2015-12-11    0.368402\n",
       "2015-12-12    0.718706\n",
       "2015-12-13    0.429831\n",
       "2015-12-14    0.094465\n",
       "2015-12-15    0.454850\n",
       "2015-12-16    0.810255\n",
       "2015-12-17    0.090451\n",
       "2015-12-18    0.500989\n",
       "2015-12-19    0.088864\n",
       "2015-12-20    0.464427\n",
       "2015-12-21    0.497888\n",
       "2015-12-22    0.573617\n",
       "2015-12-23    0.302581\n",
       "2015-12-24    0.372483\n",
       "2015-12-25    0.390168\n",
       "2015-12-26    0.193243\n",
       "2015-12-27    0.626115\n",
       "2015-12-28    0.802790\n",
       "2015-12-29    0.407175\n",
       "2015-12-30    0.021833\n",
       "2015-12-31    0.842830\n",
       "Freq: D, Length: 365, dtype: float64"
      ]
     },
     "execution_count": 83,
     "metadata": {},
     "output_type": "execute_result"
    }
   ],
   "source": [
    "dti = pd.date_range(start='2015-01-01', end='2015-12-31', freq='D') \n",
    "s = pd.Series(np.random.rand(len(dti)), index=dti)\n",
    "s"
   ]
  },
  {
   "cell_type": "markdown",
   "metadata": {},
   "source": [
    "# Question - 3 - Find the sum of the values in s for every Wednesday"
   ]
  },
  {
   "cell_type": "code",
   "execution_count": 84,
   "metadata": {},
   "outputs": [
    {
     "name": "stdout",
     "output_type": "stream",
     "text": [
      "\n",
      "sum of the values in s for every Wednesday\n",
      "29.69351469505043\n"
     ]
    }
   ],
   "source": [
    "print(\"\\nsum of the values in s for every Wednesday\")\n",
    "print(s[dti.weekday == 2].sum())"
   ]
  },
  {
   "cell_type": "markdown",
   "metadata": {},
   "source": [
    "# Question - 4 - Average For each calendar month"
   ]
  },
  {
   "cell_type": "code",
   "execution_count": 85,
   "metadata": {},
   "outputs": [
    {
     "name": "stdout",
     "output_type": "stream",
     "text": [
      "\n",
      "Average For each calendar month\n",
      "2015-01-31    0.450442\n",
      "2015-02-28    0.526270\n",
      "2015-03-31    0.405696\n",
      "2015-04-30    0.573405\n",
      "2015-05-31    0.455057\n",
      "2015-06-30    0.465809\n",
      "2015-07-31    0.548943\n",
      "2015-08-31    0.522284\n",
      "2015-09-30    0.500065\n",
      "2015-10-31    0.454168\n",
      "2015-11-30    0.484455\n",
      "2015-12-31    0.482296\n",
      "Freq: M, dtype: float64\n"
     ]
    }
   ],
   "source": [
    "print(\"\\nAverage For each calendar month\")\n",
    "print(s.resample('M').mean())"
   ]
  },
  {
   "cell_type": "markdown",
   "metadata": {},
   "source": [
    "# Question - 5 - For each group of four consecutive calendar months in s, find the date on which the highest value occurred"
   ]
  },
  {
   "cell_type": "code",
   "execution_count": 86,
   "metadata": {},
   "outputs": [
    {
     "name": "stdout",
     "output_type": "stream",
     "text": [
      "\n",
      "Date on which the highest value occurred\n",
      "2015-01-31   2015-01-18\n",
      "2015-05-31   2015-04-20\n",
      "2015-09-30   2015-07-01\n",
      "2016-01-31   2015-12-10\n",
      "dtype: datetime64[ns]\n"
     ]
    }
   ],
   "source": [
    "print(\"\\nDate on which the highest value occurred\")\n",
    "print(s.groupby(pd.Grouper(freq='4m')).idxmax())"
   ]
  }
 ],
 "metadata": {
  "kernelspec": {
   "display_name": "Python 3",
   "language": "python",
   "name": "python3"
  },
  "language_info": {
   "codemirror_mode": {
    "name": "ipython",
    "version": 3
   },
   "file_extension": ".py",
   "mimetype": "text/x-python",
   "name": "python",
   "nbconvert_exporter": "python",
   "pygments_lexer": "ipython3",
   "version": "3.7.0"
  }
 },
 "nbformat": 4,
 "nbformat_minor": 2
}
